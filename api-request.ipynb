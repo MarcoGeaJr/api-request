{
 "cells": [
  {
   "cell_type": "markdown",
   "metadata": {},
   "source": [
    "# API Request with Python\n",
    "\n",
    "#### Python, json, mongodb and requests"
   ]
  },
  {
   "cell_type": "markdown",
   "metadata": {},
   "source": [
    "### Package installation required"
   ]
  },
  {
   "cell_type": "code",
   "execution_count": null,
   "metadata": {},
   "outputs": [],
   "source": [
    "%pip install requests\n",
    "%pip install pymongo"
   ]
  },
  {
   "cell_type": "markdown",
   "metadata": {},
   "source": [
    "### Required Imports"
   ]
  },
  {
   "cell_type": "code",
   "execution_count": 6,
   "metadata": {},
   "outputs": [],
   "source": [
    "import requests\n",
    "from pymongo import MongoClient, errors"
   ]
  },
  {
   "cell_type": "markdown",
   "metadata": {},
   "source": [
    "### MongoDB database connection class"
   ]
  },
  {
   "cell_type": "code",
   "execution_count": 43,
   "metadata": {},
   "outputs": [],
   "source": [
    "class BaseDB(object):\n",
    "\n",
    "    def __init__(self, host, port):\n",
    "        self.host = host\n",
    "        self.port = port\n",
    "\n",
    "    def connect(self):\n",
    "        try:\n",
    "            self.conn = MongoClient(self.host, self.port)\n",
    "            print(f'Connected on MongoDB at {self.host} on port {self.port}')\n",
    "        except errors as e:\n",
    "            print('Error: ', e)\n",
    "                \n",
    "    def create_db(self):\n",
    "        return self.conn.starwars"
   ]
  },
  {
   "cell_type": "markdown",
   "metadata": {},
   "source": [
    "### Models classes"
   ]
  },
  {
   "cell_type": "code",
   "execution_count": 42,
   "metadata": {},
   "outputs": [],
   "source": [
    "# Class People\n",
    "class People(object):\n",
    "\n",
    "    def __init__(self, db):\n",
    "        self.people = db.people\n",
    "\n",
    "    def insert_document(self, document):\n",
    "        self.people.insert_one(document)"
   ]
  },
  {
   "cell_type": "code",
   "execution_count": 44,
   "metadata": {},
   "outputs": [],
   "source": [
    "def insert(key, document, db):\n",
    "    if key == 'people':\n",
    "        p = People(db)\n",
    "        p.insert_document(document)\n",
    "        "
   ]
  },
  {
   "cell_type": "code",
   "execution_count": null,
   "metadata": {},
   "outputs": [],
   "source": [
    "db = BaseDB('localhost', 27017)\n",
    "db.connect()\n",
    "db = db.create_db()\n",
    "\n",
    "uri = 'https://swapi.dev/api'\n",
    "\n",
    "response = requests.get(uri)\n",
    "\n",
    "for key in response.json().keys():\n",
    "    response = requests.get(f'{uri}/{key}')\n",
    "    for i in range(0, int(response.json()['count'])):\n",
    "        response = requests.get(f'{uri}/{key}/{i+1}')\n",
    "        insert(key, response.json(), db)"
   ]
  }
 ],
 "metadata": {
  "interpreter": {
   "hash": "01739e7b0cec3c1795ce31ada6688ea18271478b165e1449b633c435f4e7eef5"
  },
  "kernelspec": {
   "display_name": "Python 3.10.0 64-bit",
   "language": "python",
   "name": "python3"
  },
  "language_info": {
   "codemirror_mode": {
    "name": "ipython",
    "version": 3
   },
   "file_extension": ".py",
   "mimetype": "text/x-python",
   "name": "python",
   "nbconvert_exporter": "python",
   "pygments_lexer": "ipython3",
   "version": "3.10.0"
  },
  "orig_nbformat": 4
 },
 "nbformat": 4,
 "nbformat_minor": 2
}

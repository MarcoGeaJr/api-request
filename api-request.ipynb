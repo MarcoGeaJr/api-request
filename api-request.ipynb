{
 "cells": [
  {
   "cell_type": "markdown",
   "metadata": {},
   "source": [
    "# API Request with Python\n",
    "\n",
    "#### Python, requests and mongodb"
   ]
  },
  {
   "cell_type": "markdown",
   "metadata": {},
   "source": [
    "### Package installation required"
   ]
  },
  {
   "cell_type": "code",
   "execution_count": null,
   "metadata": {},
   "outputs": [],
   "source": [
    "%pip install requests\n",
    "%pip install pymongo"
   ]
  },
  {
   "cell_type": "markdown",
   "metadata": {},
   "source": [
    "### Required Imports"
   ]
  },
  {
   "cell_type": "code",
   "execution_count": 61,
   "metadata": {},
   "outputs": [],
   "source": [
    "import requests\n",
    "from pymongo import MongoClient, errors"
   ]
  },
  {
   "cell_type": "markdown",
   "metadata": {},
   "source": [
    "### Database functions"
   ]
  },
  {
   "cell_type": "code",
   "execution_count": 64,
   "metadata": {},
   "outputs": [],
   "source": [
    "def connect(host, port):  # Function to connect on MongoDB database service\n",
    "        try:\n",
    "            conn = MongoClient(host, port)\n",
    "            print(f'Connected on MongoDB at {host} on port {port}')\n",
    "            return conn\n",
    "        except errors as e:\n",
    "            print('Error: ', e)\n",
    "\n",
    "\n",
    "def insert(key, document, db):  # Insert a document in a match key\n",
    "    if key == 'people':\n",
    "        db.people.insert_one(document)\n",
    "    elif key == 'planets':\n",
    "        db.planets.insert_one(document)\n",
    "    elif key == 'vehicles':\n",
    "        db.vehicles.insert_one(document)\n",
    "    elif key == 'starships':\n",
    "        db.starships.insert_one(document)\n",
    "    elif key == 'films':\n",
    "        db.films.insert_one(document)\n",
    "    elif key == 'species':\n",
    "        db.species.insert_one(document)\n",
    "    else:\n",
    "        print(f\"The key {key} isn't avaliable\")\n",
    "        "
   ]
  },
  {
   "cell_type": "markdown",
   "metadata": {},
   "source": [
    "### Rquest and information storage"
   ]
  },
  {
   "cell_type": "code",
   "execution_count": null,
   "metadata": {},
   "outputs": [],
   "source": [
    "db = connect('localhost', 27017)  # Connect on mongodb service at a host\n",
    "db = db.starwars  # References the database\n",
    "\n",
    "uri = 'https://swapi.dev/api'  # Base URI for requests\n",
    "\n",
    "\n",
    "\"\"\"\n",
    "    The code below tries to request all documents from api and store in database\n",
    "\"\"\"\n",
    "try:\n",
    "    response = requests.get(uri)\n",
    "    for key in response.json().keys():\n",
    "        response = requests.get(f'{uri}/{key}')\n",
    "        for i in range(0, int(response.json()['count'])):\n",
    "            response = requests.get(f'{uri}/{key}/{i+1}')\n",
    "            insert(key, response.json(), db)\n",
    "    \n",
    "    print('Task completed successfully')\n",
    "except:\n",
    "    print('Something is wrong')"
   ]
  }
 ],
 "metadata": {
  "interpreter": {
   "hash": "01739e7b0cec3c1795ce31ada6688ea18271478b165e1449b633c435f4e7eef5"
  },
  "kernelspec": {
   "display_name": "Python 3.10.0 64-bit",
   "language": "python",
   "name": "python3"
  },
  "language_info": {
   "codemirror_mode": {
    "name": "ipython",
    "version": 3
   },
   "file_extension": ".py",
   "mimetype": "text/x-python",
   "name": "python",
   "nbconvert_exporter": "python",
   "pygments_lexer": "ipython3",
   "version": "3.10.0"
  },
  "orig_nbformat": 4
 },
 "nbformat": 4,
 "nbformat_minor": 2
}

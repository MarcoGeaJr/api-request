{
 "cells": [
  {
   "cell_type": "markdown",
   "metadata": {},
   "source": [
    "# API Request with Python\n",
    "\n",
    "#### Python, json, mongodb and requests"
   ]
  },
  {
   "cell_type": "markdown",
   "metadata": {},
   "source": [
    "### Package installation required"
   ]
  },
  {
   "cell_type": "code",
   "execution_count": null,
   "metadata": {},
   "outputs": [],
   "source": [
    "%pip install requests\n",
    "%pip install pymongo"
   ]
  },
  {
   "cell_type": "markdown",
   "metadata": {},
   "source": [
    "### Required Imports"
   ]
  },
  {
   "cell_type": "code",
   "execution_count": 57,
   "metadata": {},
   "outputs": [],
   "source": [
    "import requests\n",
    "from pymongo import MongoClient, errors"
   ]
  },
  {
   "cell_type": "code",
   "execution_count": 58,
   "metadata": {},
   "outputs": [],
   "source": [
    "def connect(host, port):\n",
    "        try:\n",
    "            conn = MongoClient(host, port)\n",
    "            print(f'Connected on MongoDB at {host} on port {port}')\n",
    "            return conn\n",
    "        except errors as e:\n",
    "            print('Error: ', e)\n",
    "\n",
    "def insert(key, document, db):\n",
    "    if key == 'people':\n",
    "        db.people.insert_one(document)\n",
    "        "
   ]
  },
  {
   "cell_type": "code",
   "execution_count": null,
   "metadata": {},
   "outputs": [],
   "source": [
    "db = connect('localhost', 27017)\n",
    "db = db.starwars\n",
    "\n",
    "uri = 'https://swapi.dev/api'\n",
    "\n",
    "response = requests.get(uri)\n",
    "\n",
    "for key in response.json().keys():\n",
    "    response = requests.get(f'{uri}/{key}')\n",
    "    for i in range(0, int(response.json()['count'])):\n",
    "        response = requests.get(f'{uri}/{key}/{i+1}')\n",
    "        insert(key, response.json(), db)"
   ]
  }
 ],
 "metadata": {
  "interpreter": {
   "hash": "01739e7b0cec3c1795ce31ada6688ea18271478b165e1449b633c435f4e7eef5"
  },
  "kernelspec": {
   "display_name": "Python 3.10.0 64-bit",
   "language": "python",
   "name": "python3"
  },
  "language_info": {
   "codemirror_mode": {
    "name": "ipython",
    "version": 3
   },
   "file_extension": ".py",
   "mimetype": "text/x-python",
   "name": "python",
   "nbconvert_exporter": "python",
   "pygments_lexer": "ipython3",
   "version": "3.10.0"
  },
  "orig_nbformat": 4
 },
 "nbformat": 4,
 "nbformat_minor": 2
}
